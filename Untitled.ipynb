{
 "cells": [
  {
   "cell_type": "code",
   "execution_count": 1,
   "id": "ca009bae",
   "metadata": {},
   "outputs": [],
   "source": [
    "import pickle\n",
    "with open('tokenizer.pickle', 'rb') as handle:\n",
    "    tokenizer = pickle.load(handle)"
   ]
  },
  {
   "cell_type": "code",
   "execution_count": 4,
   "id": "21cf6406",
   "metadata": {},
   "outputs": [],
   "source": [
    "from keras.models import load_model\n",
    "from keras.preprocessing.sequence import pad_sequences\n",
    "model = load_model('sentimentModel.h5')\n",
    "\n",
    "def predict_class(text):\n",
    "    sentiment_classes = ['Negative', 'Neutral', 'Positive']\n",
    "    max_len=50\n",
    "    to_predict = tokenizer.texts_to_sequences(text)\n",
    "    to_predict = pad_sequences(to_predict, padding='post', maxlen=max_len)\n",
    "    pridicted = model.predict(to_predict).argmax(axis=1)\n",
    "    print('Sentiment is', sentiment_classes[pridicted[0]])"
   ]
  },
  {
   "cell_type": "code",
   "execution_count": 6,
   "id": "dd810782",
   "metadata": {},
   "outputs": [
    {
     "name": "stdout",
     "output_type": "stream",
     "text": [
      "Sentiment is Positive\n"
     ]
    }
   ],
   "source": [
    "predict_class(['Raman is friend'])"
   ]
  },
  {
   "cell_type": "code",
   "execution_count": null,
   "id": "cde72334",
   "metadata": {},
   "outputs": [],
   "source": []
  }
 ],
 "metadata": {
  "kernelspec": {
   "display_name": "sentimentAnalysis",
   "language": "python",
   "name": "sentimentanalysis"
  },
  "language_info": {
   "codemirror_mode": {
    "name": "ipython",
    "version": 3
   },
   "file_extension": ".py",
   "mimetype": "text/x-python",
   "name": "python",
   "nbconvert_exporter": "python",
   "pygments_lexer": "ipython3",
   "version": "3.9.6"
  }
 },
 "nbformat": 4,
 "nbformat_minor": 5
}
